{
 "cells": [
  {
   "cell_type": "code",
   "execution_count": 25,
   "id": "5fa98cc1",
   "metadata": {},
   "outputs": [],
   "source": [
    "from typing import List"
   ]
  },
  {
   "cell_type": "code",
   "execution_count": 74,
   "id": "d801b287",
   "metadata": {},
   "outputs": [],
   "source": [
    "class Solution:\n",
    "\n",
    "    def encode(self, strs: List[str]) -> str:\n",
    "        output = \"\"\n",
    "        for s in strs:\n",
    "            output = output + str(len(s)) + \"#\" + s\n",
    "        return(output)\n",
    "    \n",
    "    def decode(self, s: str) -> List[str]:\n",
    "        length_of_element = 0\n",
    "        output = []\n",
    "\n",
    "        int_list_of_strings = s.split(\"#\")\n",
    "\n",
    "        for i in range(len(int_list_of_strings)):\n",
    "            if i == 0:\n",
    "                # After spliting the input string on # first element will be the length of first string\n",
    "                # Example: 4 i.e the length of first string\n",
    "                length_of_element=int(int_list_of_strings[i])\n",
    "            elif i==(len(int_list_of_strings)-1):\n",
    "                # Last element will be the last string\n",
    "                # Example: \"you\" i.e the last string\n",
    "                output.append(int_list_of_strings[i][:length_of_element])\n",
    "            else:\n",
    "                # All elements in between will have the structure : \"string followed by length of next element\"\n",
    "                # Example: neet4, code4\n",
    "                output.append(int_list_of_strings[i][:length_of_element])\n",
    "                length_of_element = int(int_list_of_strings[i][-1])\n",
    "\n",
    "        return(output)\n",
    "    \n",
    "    def decode2(self, s: str) -> List[str]:   # Simpler approach to decoding using two pointers\n",
    "        res, i = [], 0\n",
    "\n",
    "        while i < len(s):\n",
    "            j=i\n",
    "\n",
    "            while s[j] != \"#\":\n",
    "                j += 1\n",
    "            length = int(s[i:j])\n",
    "            res.append(s[j+1:j+1+length])\n",
    "            i=j+1+length\n",
    "        return res"
   ]
  },
  {
   "cell_type": "code",
   "execution_count": 75,
   "id": "55207513",
   "metadata": {},
   "outputs": [
    {
     "name": "stdout",
     "output_type": "stream",
     "text": [
      "Input is : ['Aniket', 'Ramgiri', 'Python', 'Developer']\n",
      "Encoded Single String is : \"6#Aniket7#Ramgiri6#Python9#Developer\"\n",
      "Decoded String is : ['Aniket', 'Ramgiri', 'Python', 'Developer']\n",
      "Decoded String is : ['Aniket', 'Ramgiri', 'Python', 'Developer']\n"
     ]
    }
   ],
   "source": [
    "if __name__ == \"__main__\":\n",
    "    solution = Solution()\n",
    "    \n",
    "    input = ['Aniket', 'Ramgiri', 'Python', 'Developer']\n",
    "    print(\"Input is : {}\".format(input))\n",
    "    \n",
    "    encoded_string = solution.encode(input)\n",
    "    print(\"Encoded Single String is : \\\"{}\\\"\".format(encoded_string))\n",
    "    \n",
    "    decoded_string = solution.decode(encoded_string)\n",
    "    print(\"Decoded String is : {}\".format(decoded_string))\n",
    "    \n",
    "    decoded_string2 = solution.decode2(encoded_string)\n",
    "    print(\"Decoded String is : {}\".format(decoded_string2))\n",
    "    "
   ]
  },
  {
   "cell_type": "code",
   "execution_count": null,
   "id": "e7f56a44",
   "metadata": {},
   "outputs": [],
   "source": []
  }
 ],
 "metadata": {
  "kernelspec": {
   "display_name": "Python 3 (ipykernel)",
   "language": "python",
   "name": "python3"
  },
  "language_info": {
   "codemirror_mode": {
    "name": "ipython",
    "version": 3
   },
   "file_extension": ".py",
   "mimetype": "text/x-python",
   "name": "python",
   "nbconvert_exporter": "python",
   "pygments_lexer": "ipython3",
   "version": "3.9.7"
  }
 },
 "nbformat": 4,
 "nbformat_minor": 5
}
